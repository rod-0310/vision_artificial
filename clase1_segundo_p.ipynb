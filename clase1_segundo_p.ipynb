{
 "cells": [
  {
   "cell_type": "code",
   "execution_count": null,
   "id": "20b13225",
   "metadata": {},
   "outputs": [],
   "source": [
    "''' PCA principal component analysis esta tecnica sirve para comprimir informacion de las imagenes manteniendo las caracteristicas mas importantes.\n",
    "los datasets son grupos de datos que comparten ciertas caracteristicas, donde se extrae informacion clave \n",
    " es dificil reinterpretar la informacion en pca\n",
    " variance is the sum of squares of differences between  all numbers and means\n",
    " es decir la varianza es la distancia  dispercion entre los datos y la media de los datos\n",
    " la covarianza  es la relacion de lasvariables entre si\n",
    " los eigen valores y eigenvectores son los vectores que definen la direccion de los datos y los valores que definen la magnitud de esos vectores del pca \n",
    "steps for PCA\n",
    "1. standarize the data\n",
    "2. calculate the covarianz matrix\n",
    "3. compute the eigenvalues and eigenvectors\n",
    "4. select principal components \n",
    "5. project data onto new basis\n",
    "exercise:\n",
    "feature example1 example2 example3 example4\n",
    " x          4         8         13     7\n",
    " y          11        4         5      14\n",
    "\n",
    "x media = (4+8+13+7)/4=8.0\n",
    "y media = (11+4+5+14)/4=8.5\n",
    "feature example1 example2 example3 example4\n",
    " x          -4        0         5      -1\n",
    " y           2.5     -4.5      -3.5    5.5\n",
    "la covarianza = (1/(n-1)*sum((xi-xmedia)(yi-ymean))\n",
    "\n",
    "V1[0.55:0.83]  V2[-0.83:0.55]\n",
    "eigv1 =30.38 eigv2=6.62\n",
    "\n",
    "'''\n"
   ]
  },
  {
   "cell_type": "code",
   "execution_count": null,
   "id": "efc75d2c",
   "metadata": {},
   "outputs": [],
   "source": []
  }
 ],
 "metadata": {
  "language_info": {
   "name": "python"
  }
 },
 "nbformat": 4,
 "nbformat_minor": 5
}
