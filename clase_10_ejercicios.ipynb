{
 "cells": [
  {
   "cell_type": "code",
   "execution_count": null,
   "id": "aaeb6180",
   "metadata": {},
   "outputs": [],
   "source": [
    "'''\n",
    "La profundidad de bits es la gama de colores que uno puede percibir. Una persona normalmente solo puede percibir hasta 8 bits de profundidad.\n",
    "Esto significa que puede distinguir hasta 256 niveles de intensidad por canal (en el modelo RGB, por ejemplo).\n",
    "\n",
    "Las impresoras utilizan el modelo de color CMYK (Cyan, Magenta, Yellow, Key/Black) para la impresión a color.\n",
    "Esto se debe a que CMYK es un modelo sustractivo, ideal para mezclar pigmentos en papel.\n",
    "\n",
    "Para lo virtual (pantallas, monitores, etc.), se utiliza el modelo RGB (Red, Green, Blue).\n",
    "RGB es un modelo aditivo, donde los colores se forman combinando luz roja, verde y azul.\n",
    "\n",
    "-----------------------HSL--------------------\n",
    "HSL significa Hue (Tono), Saturation (Saturación) y Lightness (Luminosidad).\n",
    "- Hue (Tono): Representa el color y tiene un valor de 0 a 360 grados (como en una rueda de colores).\n",
    "- Saturation (Saturación): Es la fuerza o intensidad del color, con un valor de 0% (gris) a 100% (color puro).\n",
    "- Lightness (Luminosidad): Es la cantidad de luz reflejada por el color, con un valor de 0% (negro) a 100% (blanco).\n",
    "\n",
    "HSL es útil para ajustar colores de manera intuitiva, especialmente en diseño gráfico.\n",
    "\n",
    "-----------------------HSV--------------------\n",
    "HSV significa Hue (Tono), Saturation (Saturación) y Value (Valor).\n",
    "- Hue (Tono): Representa el color y tiene un valor de 0 a 360 grados.\n",
    "- Saturation (Saturación): Es la intensidad del color, con un valor de 0% (gris) a 100% (color puro).\n",
    "- Value (Valor): Representa el brillo del color, con un valor de 0% (oscuro) a 100% (brillante).\n",
    "\n",
    "HSV es comúnmente utilizado en procesamiento de imágenes y visión por computadora, ya que separa el brillo (Value) del color.\n",
    "\n",
    "-----------------------LAB--------------------\n",
    "LAB (o CIELAB) es un espacio de color que incluye todos los colores que el ojo humano puede percibir.\n",
    "- L: Representa la luminosidad (de 0 a 100).\n",
    "- a: Representa el eje verde (-) a rojo (+).\n",
    "- b: Representa el eje azul (-) a amarillo (+).\n",
    "\n",
    "LAB es útil para tareas de corrección de color y análisis de diferencias de color, ya que es perceptualmente uniforme.\n",
    "'''\n"
   ]
  },
  {
   "cell_type": "code",
   "execution_count": null,
   "id": "5460d394",
   "metadata": {},
   "outputs": [
    {
     "data": {
      "text/plain": [
       "True"
      ]
     },
     "execution_count": 5,
     "metadata": {},
     "output_type": "execute_result"
    }
   ],
   "source": [
    "'''segmetacion de color en hsv'''\n",
    "#-----------------------segmentacion de color rojo en hsv--------------------\n",
    "import cv2\n",
    "import numpy as np\n",
    "img = cv2.imread('manzana.jpeg')\n",
    "hsv = cv2.cvtColor(img, cv2.COLOR_BGR2HSV)\n",
    "low1,high1 = (0,120,70),(10,255,255)\n",
    "low2,high2 = (170,120,70),(179,255,255)\n",
    "m1 =cv2.inRange(hsv,low1,high1)\n",
    "m2 =cv2.inRange(hsv,low2,high2)\n",
    "mask = cv2.bitwise_or(m1,m2)\n",
    "kernel = np.ones((5,5),np.uint8)\n",
    "mask = cv2.morphologyEx(mask,cv2.MORPH_OPEN,kernel)\n",
    "mask= cv2.morphologyEx(mask,cv2.MORPH_CLOSE,kernel)\n",
    "result = cv2.bitwise_and(img,img,mask=mask)\n",
    "cv2.imwrite('mask.png',mask)\n",
    "cv2.imwrite('result.png',result)"
   ]
  },
  {
   "cell_type": "code",
   "execution_count": null,
   "id": "3e7b3906",
   "metadata": {},
   "outputs": [],
   "source": [
    "#-----------------------segmentacion de color verde en hsv--------------------\n",
    "import cv2\n",
    "import numpy as np\n",
    "\n",
    "# Cargar la imagen\n",
    "img = cv2.imread('manzana.jpg')\n",
    "\n",
    "# Convertir la imagen a HSV\n",
    "hsv = cv2.cvtColor(img, cv2.COLOR_BGR2HSV)\n",
    "\n",
    "low_green = (35, 50, 50) \n",
    "high_green = (85, 255, 255)  \n",
    "\n",
    "mask = cv2.inRange(hsv, low_green, high_green)\n",
    "\n",
    "kernel = np.ones((5, 5), np.uint8)\n",
    "mask = cv2.morphologyEx(mask, cv2.MORPH_OPEN, kernel)\n",
    "mask = cv2.morphologyEx(mask, cv2.MORPH_CLOSE, kernel)\n",
    "\n",
    "result = cv2.bitwise_and(img, img, mask=mask)\n",
    "\n",
    "cv2.imwrite('mask_green.png', mask) \n",
    "cv2.imwrite('result_green.png', result)  \n"
   ]
  },
  {
   "cell_type": "code",
   "execution_count": null,
   "id": "4287cee3",
   "metadata": {},
   "outputs": [
    {
     "data": {
      "text/plain": [
       "True"
      ]
     },
     "execution_count": 9,
     "metadata": {},
     "output_type": "execute_result"
    }
   ],
   "source": [
    "#-----------------------mejora de contraste con clahe en lab--------------------\n",
    "\n",
    "import cv2\n",
    "import numpy as np  \n",
    "img = cv2.imread('manzana.jpg')\n",
    "lab = cv2.cvtColor(img, cv2.COLOR_BGR2LAB)\n",
    "l,a,b = cv2.split(lab)\n",
    "clahe = cv2.createCLAHE(clipLimit=2.0, tileGridSize=(8,8))\n",
    "l_enh = clahe.apply(l)\n",
    "lab_enh = cv2.merge((l_enh,a,b))\n",
    "img_enh = cv2.cvtColor(lab_enh, cv2.COLOR_LAB2BGR)\n",
    "cv2.imwrite('manzana_lab.png',img_enh)"
   ]
  },
  {
   "cell_type": "code",
   "execution_count": null,
   "id": "524cf135",
   "metadata": {},
   "outputs": [],
   "source": [
    "import cv2\n",
    "gray =cv2.imread('manzana.jpg',cv2.IMREAD_GRAYSCALE)\n",
    "gray_norm =cv2.normalize(gray,None,0,255,cv2.NORM_MINMAX)\n",
    "cmaps = [cv2.COLORMAP_JET,\n",
    "         cv2.COLORMAP_TURBO,\n",
    "         cv2.COLORMAP_INFERNO,\n",
    "         cv2.COLORMAP_VIRIDIS]\n",
    "for i, cm in enumerate(cmaps,1):\n",
    "    pseudo_color = cv2.applyColorMap(gray_norm, cm)\n",
    "    cv2.imwrite(f'manzana_colormap{i}.png',pseudo_color)\n",
    "    "
   ]
  }
 ],
 "metadata": {
  "kernelspec": {
   "display_name": "py310",
   "language": "python",
   "name": "python3"
  },
  "language_info": {
   "codemirror_mode": {
    "name": "ipython",
    "version": 3
   },
   "file_extension": ".py",
   "mimetype": "text/x-python",
   "name": "python",
   "nbconvert_exporter": "python",
   "pygments_lexer": "ipython3",
   "version": "3.10.18"
  }
 },
 "nbformat": 4,
 "nbformat_minor": 5
}
